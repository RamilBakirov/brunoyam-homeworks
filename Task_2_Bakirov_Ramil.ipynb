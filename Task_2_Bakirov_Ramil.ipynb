{
 "cells": [
  {
   "attachments": {},
   "cell_type": "markdown",
   "metadata": {},
   "source": [
    "# Задание к уроку 2.\n",
    "\n",
    "**NB. Все упражнения ниже нужно делать без использования циклов Python в явном (`while`, `for`) и неявном виде (list comprehension, `map`, `reduce` и пр)**\n",
    "\n",
    "Задания по манипуляциям с массивами чаще всего решаются в одно/два выражения. "
   ]
  },
  {
   "cell_type": "code",
   "execution_count": 2,
   "metadata": {},
   "outputs": [
    {
     "data": {
      "text/plain": [
       "array([[35, 78, 54, ...,  9, 24, 49],\n",
       "       [63, 57, 99, ..., 88, 11, 29],\n",
       "       [81, 39, 57, ..., 29, 53, 41],\n",
       "       ...,\n",
       "       [77, 93, 91, ..., 52, 61, 56],\n",
       "       [82, 95, 89, ..., 10, 43, 40],\n",
       "       [33, 40, 54, ..., 59, 10,  3]])"
      ]
     },
     "execution_count": 2,
     "metadata": {},
     "output_type": "execute_result"
    }
   ],
   "source": [
    "%matplotlib inline\n",
    "\n",
    "import numpy as np\n",
    "import matplotlib.pyplot as plt\n",
    "import seaborn as sns\n",
    "sns.set_theme()\n",
    "\n",
    "A = np.random.randint(0, 100, size=(200, 50))\n",
    "A"
   ]
  },
  {
   "cell_type": "markdown",
   "metadata": {},
   "source": [
    "# Задание 2.1 (2 балла)\n",
    "\n",
    "Сгенерируйте новый массив, в котором столбцы массива `A` переставлены в случайном порядке"
   ]
  },
  {
   "cell_type": "code",
   "execution_count": 3,
   "metadata": {},
   "outputs": [
    {
     "data": {
      "text/plain": [
       "array([[24,  6, 54, ..., 26, 55, 57],\n",
       "       [11, 97, 37, ...,  9, 10, 72],\n",
       "       [53, 57, 39, ..., 33, 83, 69],\n",
       "       ...,\n",
       "       [61, 94,  8, ..., 90, 10, 97],\n",
       "       [43, 18, 62, ..., 38, 92, 58],\n",
       "       [10,  5, 45, ..., 13, 28,  9]])"
      ]
     },
     "execution_count": 3,
     "metadata": {},
     "output_type": "execute_result"
    }
   ],
   "source": [
    "B = A[:, np.random.permutation(A.shape[1])]\n",
    "B"
   ]
  },
  {
   "cell_type": "markdown",
   "metadata": {},
   "source": [
    "# Задание 2.2 (5 баллов)\n",
    "\n",
    "Сгенерируйте новый массив, который содержит только те строки массива `A`, в которых: \n",
    "- сумма элементов по четным столбцам (индексы $0, 2, \\ldots$) больше среднего значения (по всему массиву) суммы элементов по нечетным столбцам (индексы $1, 3, \\ldots$) "
   ]
  },
  {
   "cell_type": "code",
   "execution_count": null,
   "metadata": {},
   "outputs": [],
   "source": []
  },
  {
   "cell_type": "markdown",
   "metadata": {},
   "source": [
    "# Задача 2.3 (3 балла)\n",
    "\n",
    "Найдите индекс строки массива `A`, в которой разница между максимальным и минимальным элементом максимальна"
   ]
  },
  {
   "cell_type": "code",
   "execution_count": 4,
   "metadata": {},
   "outputs": [
    {
     "name": "stdout",
     "output_type": "stream",
     "text": [
      "\n",
      "Разница между максимальным и минимальным элементов массива:\n",
      "[88 97 96 98 91 99 96 95 98 95 98 96 99 95 92 98 95 95 96 99 98 96 98 98\n",
      " 93 97 96 96 98 99 97 97 96 98 95 99 93 97 94 98 96 95 94 93 95 96 96 98\n",
      " 96 97 97 96 96 96 97 95 96 99 94 97 94 95 93 99 95 97 98 92 97 99 95 98\n",
      " 96 98 98 98 98 87 86 93 99 94 97 91 99 90 97 99 93 94 93 99 95 94 98 96\n",
      " 96 98 95 99 92 96 97 93 93 95 94 97 96 98 98 92 95 95 97 96 99 91 97 98\n",
      " 94 96 96 96 92 95 98 97 97 99 99 99 90 99 93 98 99 96 97 99 88 96 95 93\n",
      " 94 95 98 97 96 96 98 98 97 99 96 98 95 96 92 94 98 99 98 93 99 98 99 99\n",
      " 92 95 94 93 94 98 95 97 94 96 97 96 99 97 94 98 95 99 95 97 98 97 98 95\n",
      " 98 99 94 99 96 94 93 91]\n"
     ]
    },
    {
     "data": {
      "text/plain": [
       "[5,\n",
       " 12,\n",
       " 19,\n",
       " 29,\n",
       " 35,\n",
       " 57,\n",
       " 63,\n",
       " 69,\n",
       " 80,\n",
       " 84,\n",
       " 87,\n",
       " 91,\n",
       " 99,\n",
       " 116,\n",
       " 129,\n",
       " 130,\n",
       " 131,\n",
       " 133,\n",
       " 136,\n",
       " 139,\n",
       " 153,\n",
       " 161,\n",
       " 164,\n",
       " 166,\n",
       " 167,\n",
       " 180,\n",
       " 185,\n",
       " 193,\n",
       " 195]"
      ]
     },
     "execution_count": 4,
     "metadata": {},
     "output_type": "execute_result"
    }
   ],
   "source": [
    "A = np.random.randint(0, 100, size=(200, 50))\n",
    "r1 = np.ptp(A, 1)\n",
    "r2 = np.amax(A, 1) - np.amin(A, 1)\n",
    "assert np.allclose(r1, r2)\n",
    "print(\"\\nРазница между максимальным и минимальным элементов массива:\")\n",
    "print(r1)\n",
    "m = max(r1)\n",
    "[i for i, j in enumerate(r1) if j == m]"
   ]
  },
  {
   "cell_type": "markdown",
   "metadata": {},
   "source": [
    "# Задание 2.4 (7 баллов)\n",
    "\n",
    "Сгенерируйте массив той же размерности, что и `A`, но в котором каждый элемент заменен на его порядковый номер (начиная с 1) в отсортированном по возрастанию массиве из элементов `A`\n",
    "\n",
    "Если `A` выглядит так:\n",
    "$$\n",
    "\\begin{pmatrix}\n",
    "12 & 14\\\\\n",
    "1 & 2\n",
    "\\end{pmatrix}\n",
    "$$\n",
    "то результат должен быть\n",
    "$$\n",
    "\\begin{pmatrix}\n",
    "3 & 4\\\\\n",
    "1 & 2\n",
    "\\end{pmatrix}\n",
    "$$\n",
    "\n",
    "*Tip: рассмотрите возможность неоднократного применения [argsort()](https://numpy.org/doc/stable/reference/generated/numpy.ndarray.argsort.html)*"
   ]
  },
  {
   "cell_type": "code",
   "execution_count": null,
   "metadata": {},
   "outputs": [],
   "source": []
  },
  {
   "cell_type": "markdown",
   "metadata": {},
   "source": [
    "# Задание 2.5 (2 балла)\n",
    "\n",
    "Примените $\\min-\\max$ - нормализацию к строкам массива `A`. То есть нужно получить новый массивы, в каждой строке которого максимальный элементы равен $1$, минимальный - $0$. "
   ]
  },
  {
   "cell_type": "code",
   "execution_count": 5,
   "metadata": {},
   "outputs": [
    {
     "data": {
      "text/plain": [
       "array([[0.29292929, 0.44444444, 0.92929293, ..., 0.05050505, 0.02020202,\n",
       "        0.18181818],\n",
       "       [0.34343434, 0.55555556, 0.74747475, ..., 0.94949495, 0.41414141,\n",
       "        0.88888889],\n",
       "       [0.83838384, 0.61616162, 0.06060606, ..., 0.85858586, 0.98989899,\n",
       "        0.62626263],\n",
       "       ...,\n",
       "       [0.86868687, 0.86868687, 0.72727273, ..., 0.06060606, 0.58585859,\n",
       "        0.32323232],\n",
       "       [0.18181818, 0.25252525, 0.09090909, ..., 0.21212121, 0.98989899,\n",
       "        0.67676768],\n",
       "       [0.45454545, 0.67676768, 0.95959596, ..., 0.05050505, 0.56565657,\n",
       "        0.14141414]])"
      ]
     },
     "execution_count": 5,
     "metadata": {},
     "output_type": "execute_result"
    }
   ],
   "source": [
    "A = np.random.randint(0, 100, size=(200, 50))\n",
    "maxi = A.max()\n",
    "mini = A.min()\n",
    "a_norm = (A - mini) / (maxi -mini)\n",
    "a_norm"
   ]
  },
  {
   "cell_type": "markdown",
   "metadata": {},
   "source": [
    "# Задание 2.6 (2 балла)\n",
    "\n",
    "Сгенерируйте новый трехмерный массив, размерности $10 \\times 200 \\times 50$. Подмассивы по нулевой оси должны состоять из элементов `A`, умноженных на $1 - 10$ соответственно"
   ]
  },
  {
   "cell_type": "code",
   "execution_count": null,
   "metadata": {},
   "outputs": [],
   "source": []
  },
  {
   "cell_type": "markdown",
   "metadata": {},
   "source": [
    "# Задание 2.7 (2 балла)\n",
    "\n",
    "Создайте новый массив, такой же размерности, как и `A`, в котором сначала сгруппированы четные столбцы `A`, потом  нечетные. Используйте [np.concat()](https://numpy.org/doc/stable/reference/generated/numpy.concatenate.html) "
   ]
  },
  {
   "cell_type": "code",
   "execution_count": 7,
   "metadata": {},
   "outputs": [
    {
     "data": {
      "text/html": [
       "<div>\n",
       "<style scoped>\n",
       "    .dataframe tbody tr th:only-of-type {\n",
       "        vertical-align: middle;\n",
       "    }\n",
       "\n",
       "    .dataframe tbody tr th {\n",
       "        vertical-align: top;\n",
       "    }\n",
       "\n",
       "    .dataframe thead th {\n",
       "        text-align: right;\n",
       "    }\n",
       "</style>\n",
       "<table border=\"1\" class=\"dataframe\">\n",
       "  <thead>\n",
       "    <tr style=\"text-align: right;\">\n",
       "      <th></th>\n",
       "      <th>0</th>\n",
       "      <th>2</th>\n",
       "      <th>4</th>\n",
       "      <th>6</th>\n",
       "      <th>8</th>\n",
       "      <th>10</th>\n",
       "      <th>12</th>\n",
       "      <th>14</th>\n",
       "      <th>16</th>\n",
       "      <th>18</th>\n",
       "      <th>...</th>\n",
       "      <th>31</th>\n",
       "      <th>33</th>\n",
       "      <th>35</th>\n",
       "      <th>37</th>\n",
       "      <th>39</th>\n",
       "      <th>41</th>\n",
       "      <th>43</th>\n",
       "      <th>45</th>\n",
       "      <th>47</th>\n",
       "      <th>49</th>\n",
       "    </tr>\n",
       "  </thead>\n",
       "  <tbody>\n",
       "    <tr>\n",
       "      <th>0</th>\n",
       "      <td>60</td>\n",
       "      <td>72</td>\n",
       "      <td>46</td>\n",
       "      <td>76</td>\n",
       "      <td>69</td>\n",
       "      <td>10</td>\n",
       "      <td>18</td>\n",
       "      <td>65</td>\n",
       "      <td>97</td>\n",
       "      <td>67</td>\n",
       "      <td>...</td>\n",
       "      <td>59</td>\n",
       "      <td>78</td>\n",
       "      <td>14</td>\n",
       "      <td>79</td>\n",
       "      <td>57</td>\n",
       "      <td>80</td>\n",
       "      <td>52</td>\n",
       "      <td>6</td>\n",
       "      <td>59</td>\n",
       "      <td>46</td>\n",
       "    </tr>\n",
       "    <tr>\n",
       "      <th>1</th>\n",
       "      <td>28</td>\n",
       "      <td>48</td>\n",
       "      <td>97</td>\n",
       "      <td>20</td>\n",
       "      <td>63</td>\n",
       "      <td>19</td>\n",
       "      <td>33</td>\n",
       "      <td>27</td>\n",
       "      <td>65</td>\n",
       "      <td>99</td>\n",
       "      <td>...</td>\n",
       "      <td>97</td>\n",
       "      <td>44</td>\n",
       "      <td>51</td>\n",
       "      <td>49</td>\n",
       "      <td>99</td>\n",
       "      <td>58</td>\n",
       "      <td>53</td>\n",
       "      <td>52</td>\n",
       "      <td>49</td>\n",
       "      <td>76</td>\n",
       "    </tr>\n",
       "    <tr>\n",
       "      <th>2</th>\n",
       "      <td>20</td>\n",
       "      <td>88</td>\n",
       "      <td>86</td>\n",
       "      <td>88</td>\n",
       "      <td>13</td>\n",
       "      <td>1</td>\n",
       "      <td>90</td>\n",
       "      <td>58</td>\n",
       "      <td>66</td>\n",
       "      <td>43</td>\n",
       "      <td>...</td>\n",
       "      <td>91</td>\n",
       "      <td>13</td>\n",
       "      <td>38</td>\n",
       "      <td>45</td>\n",
       "      <td>63</td>\n",
       "      <td>32</td>\n",
       "      <td>27</td>\n",
       "      <td>26</td>\n",
       "      <td>13</td>\n",
       "      <td>21</td>\n",
       "    </tr>\n",
       "    <tr>\n",
       "      <th>3</th>\n",
       "      <td>36</td>\n",
       "      <td>17</td>\n",
       "      <td>93</td>\n",
       "      <td>26</td>\n",
       "      <td>28</td>\n",
       "      <td>89</td>\n",
       "      <td>58</td>\n",
       "      <td>74</td>\n",
       "      <td>53</td>\n",
       "      <td>89</td>\n",
       "      <td>...</td>\n",
       "      <td>86</td>\n",
       "      <td>90</td>\n",
       "      <td>22</td>\n",
       "      <td>8</td>\n",
       "      <td>76</td>\n",
       "      <td>16</td>\n",
       "      <td>32</td>\n",
       "      <td>2</td>\n",
       "      <td>37</td>\n",
       "      <td>13</td>\n",
       "    </tr>\n",
       "    <tr>\n",
       "      <th>4</th>\n",
       "      <td>37</td>\n",
       "      <td>2</td>\n",
       "      <td>10</td>\n",
       "      <td>45</td>\n",
       "      <td>72</td>\n",
       "      <td>34</td>\n",
       "      <td>32</td>\n",
       "      <td>96</td>\n",
       "      <td>80</td>\n",
       "      <td>38</td>\n",
       "      <td>...</td>\n",
       "      <td>96</td>\n",
       "      <td>93</td>\n",
       "      <td>7</td>\n",
       "      <td>50</td>\n",
       "      <td>79</td>\n",
       "      <td>65</td>\n",
       "      <td>16</td>\n",
       "      <td>55</td>\n",
       "      <td>29</td>\n",
       "      <td>48</td>\n",
       "    </tr>\n",
       "    <tr>\n",
       "      <th>...</th>\n",
       "      <td>...</td>\n",
       "      <td>...</td>\n",
       "      <td>...</td>\n",
       "      <td>...</td>\n",
       "      <td>...</td>\n",
       "      <td>...</td>\n",
       "      <td>...</td>\n",
       "      <td>...</td>\n",
       "      <td>...</td>\n",
       "      <td>...</td>\n",
       "      <td>...</td>\n",
       "      <td>...</td>\n",
       "      <td>...</td>\n",
       "      <td>...</td>\n",
       "      <td>...</td>\n",
       "      <td>...</td>\n",
       "      <td>...</td>\n",
       "      <td>...</td>\n",
       "      <td>...</td>\n",
       "      <td>...</td>\n",
       "      <td>...</td>\n",
       "    </tr>\n",
       "    <tr>\n",
       "      <th>195</th>\n",
       "      <td>95</td>\n",
       "      <td>85</td>\n",
       "      <td>32</td>\n",
       "      <td>20</td>\n",
       "      <td>61</td>\n",
       "      <td>3</td>\n",
       "      <td>23</td>\n",
       "      <td>81</td>\n",
       "      <td>72</td>\n",
       "      <td>50</td>\n",
       "      <td>...</td>\n",
       "      <td>89</td>\n",
       "      <td>67</td>\n",
       "      <td>75</td>\n",
       "      <td>25</td>\n",
       "      <td>29</td>\n",
       "      <td>93</td>\n",
       "      <td>46</td>\n",
       "      <td>52</td>\n",
       "      <td>60</td>\n",
       "      <td>27</td>\n",
       "    </tr>\n",
       "    <tr>\n",
       "      <th>196</th>\n",
       "      <td>13</td>\n",
       "      <td>66</td>\n",
       "      <td>91</td>\n",
       "      <td>21</td>\n",
       "      <td>76</td>\n",
       "      <td>23</td>\n",
       "      <td>36</td>\n",
       "      <td>90</td>\n",
       "      <td>80</td>\n",
       "      <td>17</td>\n",
       "      <td>...</td>\n",
       "      <td>31</td>\n",
       "      <td>54</td>\n",
       "      <td>16</td>\n",
       "      <td>29</td>\n",
       "      <td>83</td>\n",
       "      <td>30</td>\n",
       "      <td>19</td>\n",
       "      <td>86</td>\n",
       "      <td>92</td>\n",
       "      <td>46</td>\n",
       "    </tr>\n",
       "    <tr>\n",
       "      <th>197</th>\n",
       "      <td>32</td>\n",
       "      <td>27</td>\n",
       "      <td>73</td>\n",
       "      <td>82</td>\n",
       "      <td>56</td>\n",
       "      <td>12</td>\n",
       "      <td>97</td>\n",
       "      <td>33</td>\n",
       "      <td>26</td>\n",
       "      <td>48</td>\n",
       "      <td>...</td>\n",
       "      <td>17</td>\n",
       "      <td>22</td>\n",
       "      <td>66</td>\n",
       "      <td>31</td>\n",
       "      <td>39</td>\n",
       "      <td>69</td>\n",
       "      <td>7</td>\n",
       "      <td>74</td>\n",
       "      <td>80</td>\n",
       "      <td>8</td>\n",
       "    </tr>\n",
       "    <tr>\n",
       "      <th>198</th>\n",
       "      <td>54</td>\n",
       "      <td>92</td>\n",
       "      <td>18</td>\n",
       "      <td>58</td>\n",
       "      <td>3</td>\n",
       "      <td>59</td>\n",
       "      <td>50</td>\n",
       "      <td>33</td>\n",
       "      <td>91</td>\n",
       "      <td>70</td>\n",
       "      <td>...</td>\n",
       "      <td>17</td>\n",
       "      <td>27</td>\n",
       "      <td>20</td>\n",
       "      <td>32</td>\n",
       "      <td>39</td>\n",
       "      <td>56</td>\n",
       "      <td>9</td>\n",
       "      <td>94</td>\n",
       "      <td>70</td>\n",
       "      <td>69</td>\n",
       "    </tr>\n",
       "    <tr>\n",
       "      <th>199</th>\n",
       "      <td>22</td>\n",
       "      <td>31</td>\n",
       "      <td>31</td>\n",
       "      <td>55</td>\n",
       "      <td>18</td>\n",
       "      <td>82</td>\n",
       "      <td>8</td>\n",
       "      <td>35</td>\n",
       "      <td>5</td>\n",
       "      <td>21</td>\n",
       "      <td>...</td>\n",
       "      <td>54</td>\n",
       "      <td>57</td>\n",
       "      <td>21</td>\n",
       "      <td>34</td>\n",
       "      <td>36</td>\n",
       "      <td>14</td>\n",
       "      <td>67</td>\n",
       "      <td>19</td>\n",
       "      <td>7</td>\n",
       "      <td>91</td>\n",
       "    </tr>\n",
       "  </tbody>\n",
       "</table>\n",
       "<p>200 rows × 50 columns</p>\n",
       "</div>"
      ],
      "text/plain": [
       "     0   2   4   6   8   10  12  14  16  18  ...  31  33  35  37  39  41  43   \n",
       "0    60  72  46  76  69  10  18  65  97  67  ...  59  78  14  79  57  80  52  \\\n",
       "1    28  48  97  20  63  19  33  27  65  99  ...  97  44  51  49  99  58  53   \n",
       "2    20  88  86  88  13   1  90  58  66  43  ...  91  13  38  45  63  32  27   \n",
       "3    36  17  93  26  28  89  58  74  53  89  ...  86  90  22   8  76  16  32   \n",
       "4    37   2  10  45  72  34  32  96  80  38  ...  96  93   7  50  79  65  16   \n",
       "..   ..  ..  ..  ..  ..  ..  ..  ..  ..  ..  ...  ..  ..  ..  ..  ..  ..  ..   \n",
       "195  95  85  32  20  61   3  23  81  72  50  ...  89  67  75  25  29  93  46   \n",
       "196  13  66  91  21  76  23  36  90  80  17  ...  31  54  16  29  83  30  19   \n",
       "197  32  27  73  82  56  12  97  33  26  48  ...  17  22  66  31  39  69   7   \n",
       "198  54  92  18  58   3  59  50  33  91  70  ...  17  27  20  32  39  56   9   \n",
       "199  22  31  31  55  18  82   8  35   5  21  ...  54  57  21  34  36  14  67   \n",
       "\n",
       "     45  47  49  \n",
       "0     6  59  46  \n",
       "1    52  49  76  \n",
       "2    26  13  21  \n",
       "3     2  37  13  \n",
       "4    55  29  48  \n",
       "..   ..  ..  ..  \n",
       "195  52  60  27  \n",
       "196  86  92  46  \n",
       "197  74  80   8  \n",
       "198  94  70  69  \n",
       "199  19   7  91  \n",
       "\n",
       "[200 rows x 50 columns]"
      ]
     },
     "execution_count": 7,
     "metadata": {},
     "output_type": "execute_result"
    }
   ],
   "source": [
    "import pandas as pd\n",
    "A = pd.DataFrame(np.random.randint(0, 100, size=(200, 50)))\n",
    "even = A[A.columns[::2]]\n",
    "odd = A[A.columns[1::2]]\n",
    "F = pd.concat([even, odd], axis=1)\n",
    "F\n"
   ]
  },
  {
   "cell_type": "markdown",
   "metadata": {},
   "source": [
    "# Задание 2.8 (2 балла)\n",
    "\n",
    "Посчитайте количество строк массива `A`, в который все элементы больше 5. Используйте [np.all()](https://numpy.org/doc/stable/reference/generated/numpy.all.html) "
   ]
  },
  {
   "cell_type": "code",
   "execution_count": null,
   "metadata": {},
   "outputs": [],
   "source": []
  },
  {
   "cell_type": "markdown",
   "metadata": {},
   "source": [
    "# Задание 2.9 (2 балла)\n",
    "\n",
    "Поделите массив `A` горизонтально на 10 частей и создайте новый массив размерности $20 \\times 50$, который является средним этих частей. Используйте [np.split()](https://numpy.org/doc/stable/reference/generated/numpy.split.html)"
   ]
  },
  {
   "cell_type": "code",
   "execution_count": null,
   "metadata": {},
   "outputs": [],
   "source": []
  },
  {
   "cell_type": "markdown",
   "metadata": {},
   "source": [
    "# Задание 2.10 (4 балла)\n",
    "\n",
    "\"Разверните\" массив `A` в одномерный массив. Оставьте в нём только уникальные элементы в том же порядке, в котором они встречаются в массиве. Используйте [np.unique()](https://numpy.org/doc/stable/reference/generated/numpy.unique.html)"
   ]
  },
  {
   "cell_type": "code",
   "execution_count": null,
   "metadata": {},
   "outputs": [],
   "source": []
  },
  {
   "attachments": {},
   "cell_type": "markdown",
   "metadata": {},
   "source": [
    "# Задание 2.11 (3 балла)\n",
    "\n",
    "Создайте одномерный массив размерности $200$, в котором каждый элемент - евклидово расстояние между соответствующей строкой `A` и \"средней\" строкой `A` (средний т.е арифметическое среднее)"
   ]
  },
  {
   "cell_type": "code",
   "execution_count": null,
   "metadata": {},
   "outputs": [],
   "source": []
  },
  {
   "cell_type": "markdown",
   "metadata": {},
   "source": [
    "# Задание 2.12 (2 балла)\n",
    "\n",
    "Создайте новый массив, который состоит из элементов `A`, измененных по следующим правилам:\n",
    "- если элемент меньше $50$, то он умножается на $2$\n",
    "- в противном случае он умножается на $3$\n",
    "\n",
    "Используйте [np.where()](https://numpy.org/doc/stable/reference/generated/numpy.where.html)"
   ]
  },
  {
   "cell_type": "code",
   "execution_count": null,
   "metadata": {},
   "outputs": [],
   "source": []
  },
  {
   "cell_type": "markdown",
   "metadata": {},
   "source": [
    "# Задание 2.13 (7 баллов)\n",
    "\n",
    "Разверните массив `A` в одномерный массив. Создайте три новых массива, подсчитав скользящие средние по окнам $3$, $5$, $10$. Найдите сумму этих массивов, выровнив из размерности нулями справа\n",
    "\n",
    "*Tip: реализуйте функцию, которая считает скользящее среднее. Используйте [np.cumsum()](https://numpy.org/doc/stable/reference/generated/numpy.cumsum.html) или [np.convolve()](https://numpy.org/doc/stable/reference/generated/numpy.convolve.html)*"
   ]
  },
  {
   "cell_type": "code",
   "execution_count": null,
   "metadata": {},
   "outputs": [],
   "source": []
  },
  {
   "attachments": {},
   "cell_type": "markdown",
   "metadata": {},
   "source": [
    "# Задание 2.14 (8 баллов)\n",
    "\n",
    "Постройте график функции $$f(x) = (5  \\sin(2x) - \\cos^2(x) - 1 + |x^3| - x^2) / (x^2 + 1)$$  \n",
    "\n",
    "и производной от этой функции.  Найдите минимум с помощью `scipy` и обозначьте его на графике."
   ]
  },
  {
   "cell_type": "code",
   "execution_count": null,
   "metadata": {},
   "outputs": [],
   "source": []
  },
  {
   "cell_type": "markdown",
   "metadata": {},
   "source": [
    "# Задание 2.15 (10 баллов)\n",
    "\n",
    "Есть следующий алгоритм семплинирования, на вход функции подается вектор из целых положительных чисел и число семплов."
   ]
  },
  {
   "cell_type": "code",
   "execution_count": 2,
   "metadata": {},
   "outputs": [
    {
     "data": {
      "text/plain": [
       "[0, 4, 4, 0, 0]"
      ]
     },
     "execution_count": 2,
     "metadata": {},
     "output_type": "execute_result"
    }
   ],
   "source": [
    "from typing import List \n",
    "\n",
    "def sample(x: List[int], c: int) -> List[int]:\n",
    "    assert len(x) > 0\n",
    "    \n",
    "    s = np.sum(x)\n",
    "    res = []\n",
    "    for _ in range(c):\n",
    "        val = s * np.random.random()\n",
    "        cur, idx = 0, 0        \n",
    "        while cur + x[idx] <= val:\n",
    "            cur += x[idx]\n",
    "            idx += 1\n",
    "            \n",
    "        res.append(idx)\n",
    "    return res\n",
    "\n",
    "            \n",
    "sample([50, 3, 1, 7, 20], 5)   "
   ]
  },
  {
   "cell_type": "markdown",
   "metadata": {},
   "source": [
    "Реализуйте данный алгоритм более оптимальным способом на массивах `numpy`, без использования циклов. Проверьте корректность и идентичность алгоритмов семплирования с помощью статистических тестов."
   ]
  },
  {
   "cell_type": "code",
   "execution_count": null,
   "metadata": {},
   "outputs": [],
   "source": []
  },
  {
   "cell_type": "markdown",
   "metadata": {},
   "source": [
    "# Задание 2.16 (5 баллов)\n",
    "\n",
    "Есть следующий алгоритм \"случайного блуждания\""
   ]
  },
  {
   "cell_type": "code",
   "execution_count": 3,
   "metadata": {},
   "outputs": [
    {
     "data": {
      "text/plain": [
       "2003"
      ]
     },
     "execution_count": 3,
     "metadata": {},
     "output_type": "execute_result"
    }
   ],
   "source": [
    "import random \n",
    "\n",
    "def walk(n: int):\n",
    "    cur_position = 0\n",
    "    for i in range(n):\n",
    "        cur_position += random.choice([-3, -1, 0, 2, 3])\n",
    "\n",
    "    return cur_position\n",
    "\n",
    "walk(10_000)"
   ]
  },
  {
   "cell_type": "markdown",
   "metadata": {},
   "source": [
    "Реализуйте более эффективную версию с помощью `numpy`, сравните производительность (используя, например, magic `timeit`). Воспользовавшись [kdeplot()](https://seaborn.pydata.org/generated/seaborn.kdeplot.html) или аналогами, постройте график распределения значений `walk(10_000)` на каком-то разумном числе запусков. "
   ]
  },
  {
   "cell_type": "code",
   "execution_count": null,
   "metadata": {},
   "outputs": [],
   "source": []
  }
 ],
 "metadata": {
  "kernelspec": {
   "display_name": "Python 3.10.6 64-bit",
   "language": "python",
   "name": "python3"
  },
  "language_info": {
   "codemirror_mode": {
    "name": "ipython",
    "version": 3
   },
   "file_extension": ".py",
   "mimetype": "text/x-python",
   "name": "python",
   "nbconvert_exporter": "python",
   "pygments_lexer": "ipython3",
   "version": "3.9.1"
  },
  "orig_nbformat": 4,
  "vscode": {
   "interpreter": {
    "hash": "916dbcbb3f70747c44a77c7bcd40155683ae19c65e1c03b4aa3499c5328201f1"
   }
  }
 },
 "nbformat": 4,
 "nbformat_minor": 2
}
